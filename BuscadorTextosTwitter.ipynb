{
 "cells": [
  {
   "cell_type": "markdown",
   "metadata": {},
   "source": [
    "# Importante previamente haber realizado la instalación de la librería con el comando pip install python-twitter \n",
    "\n",
    "Para mejor uso de la librería, consultar https://python-twitter.readthedocs.io/en/latest/index.html\n"
   ]
  },
  {
   "cell_type": "code",
   "execution_count": 1,
   "metadata": {},
   "outputs": [],
   "source": [
    "import twitter "
   ]
  },
  {
   "cell_type": "markdown",
   "metadata": {},
   "source": [
    "Se muestra la descripción de las credenciales de la Api con sus diferentes propiedades"
   ]
  },
  {
   "cell_type": "code",
   "execution_count": 2,
   "metadata": {},
   "outputs": [
    {
     "name": "stdout",
     "output_type": "stream",
     "text": [
      "{\"created_at\": \"Fri Nov 23 12:30:51 +0000 2018\", \"default_profile\": true, \"default_profile_image\": true, \"id\": 1065945772347334656, \"id_str\": \"1065945772347334656\", \"name\": \"Kevin\", \"profile_background_color\": \"F5F8FA\", \"profile_image_url\": \"http://abs.twimg.com/sticky/default_profile_images/default_profile_normal.png\", \"profile_image_url_https\": \"https://abs.twimg.com/sticky/default_profile_images/default_profile_normal.png\", \"profile_link_color\": \"1DA1F2\", \"profile_sidebar_border_color\": \"C0DEED\", \"profile_sidebar_fill_color\": \"DDEEF6\", \"profile_text_color\": \"333333\", \"profile_use_background_image\": true, \"screen_name\": \"Kevin56195781\"}\n"
     ]
    }
   ],
   "source": [
    "twApi = twitter.Api(consumer_key='adLESj2vv3Np244OyiAn4ZeyG',\n",
    "  consumer_secret='2sd58lB3nMM9ye3dlAOrnbKgWVzP5CGPGw8Yn2V3ES0C9SmTtp',\n",
    "  access_token_key='1065945772347334656-cNYqp3HItdKhTuKsxURzRKgWsf5OOI',\n",
    "  access_token_secret='2VDjPrkI6KV2RVIHDHtoFGmg5l4DE7R9y8dbImYJGTrqk')\n",
    "\n",
    "print(twApi.VerifyCredentials())"
   ]
  },
  {
   "cell_type": "code",
   "execution_count": 3,
   "metadata": {},
   "outputs": [
    {
     "ename": "NameError",
     "evalue": "name 'counter' is not defined",
     "output_type": "error",
     "traceback": [
      "\u001b[1;31m---------------------------------------------------------------------------\u001b[0m",
      "\u001b[1;31mNameError\u001b[0m                                 Traceback (most recent call last)",
      "\u001b[1;32m<ipython-input-3-cc2f79ce51af>\u001b[0m in \u001b[0;36m<module>\u001b[1;34m\u001b[0m\n\u001b[0;32m     17\u001b[0m \u001b[1;33m\u001b[0m\u001b[0m\n\u001b[0;32m     18\u001b[0m \u001b[1;32mfor\u001b[0m \u001b[0mtweet\u001b[0m \u001b[1;32min\u001b[0m \u001b[0mtweets\u001b[0m\u001b[1;33m:\u001b[0m\u001b[1;33m\u001b[0m\u001b[1;33m\u001b[0m\u001b[0m\n\u001b[1;32m---> 19\u001b[1;33m     \u001b[0mcounter\u001b[0m\u001b[1;33m+=\u001b[0m\u001b[1;36m1\u001b[0m\u001b[1;33m\u001b[0m\u001b[1;33m\u001b[0m\u001b[0m\n\u001b[0m\u001b[0;32m     20\u001b[0m     \u001b[0mprint\u001b[0m\u001b[1;33m(\u001b[0m\u001b[0mtweet\u001b[0m\u001b[1;33m,\u001b[0m \u001b[1;34m\"\\n\"\u001b[0m\u001b[1;33m)\u001b[0m\u001b[1;33m\u001b[0m\u001b[1;33m\u001b[0m\u001b[0m\n",
      "\u001b[1;31mNameError\u001b[0m: name 'counter' is not defined"
     ]
    }
   ],
   "source": [
    "request = twApi.GetSearch(geocode=\"4.151382,-73.637688,30mi\")\n",
    "\n",
    "tweets = []\n",
    "for item in request:\n",
    "    tweet = {\n",
    "        \"id\": item.id,\n",
    "        \"texto\": item.text,\n",
    "        \"usuario\": {\n",
    "            \"id\": item.user.id,\n",
    "            \"nombre\": item.user.name,\n",
    "            \"url\": item.user.url,\n",
    "            \"foto_perfil\": item.user.profile_image_url\n",
    "        } \n",
    "    }\n",
    "    \n",
    "    tweets.append(tweet)\n",
    "\n",
    "for tweet in tweets:\n",
    "    counter+=1\n",
    "    print(tweet, \"\\n\")\n"
   ]
  },
  {
   "cell_type": "code",
   "execution_count": null,
   "metadata": {},
   "outputs": [],
   "source": [
    "from stop_words import get_stop_words\n",
    "\n",
    "stopWords = get_stop_words('spanish')\n",
    "print(stopWords)"
   ]
  },
  {
   "cell_type": "code",
   "execution_count": null,
   "metadata": {},
   "outputs": [],
   "source": [
    "import re\n",
    "import string\n",
    "\n",
    "# texto = texto.lower()\n",
    "# texto = re.sub(\"[a-z]\\.[a-z]\\.\", ' ', texto)\n",
    "# texto = texto.replace('\\n','+') \n",
    "# texto = texto.replace('\\\"',' + ')\n",
    "# texto = texto.replace('\\t','+') \n",
    "# texto = texto.replace(',','')\n",
    "# texto = texto.replace('.','+')\n",
    "# texto = texto.replace('+',' ')\n",
    "# texto = re.sub(\"\\s+\", ' ', texto) \n",
    "# texto = re.sub(' +',' ', texto) \n",
    "# texto = re.sub(\"( '|' )\",' ', texto)\n",
    "# texto = re.sub(\"'\",' ', texto) \n",
    "# texto = re.sub('[%s]' % re.escape(string.punctuation), ' ', texto)\n",
    "# texto = re.sub('[%s]' % re.escape(string.digits), ' ', texto) \n",
    "# texto = re.sub(\"[^\\w\\s]\", '', texto)\n",
    "# texto = re.sub(\"\\s+\", ' ', texto)\n",
    "def clearText(text):\n",
    "    \n",
    "    clearedText = re.sub(r'https://?[\\w\\W]+','',text)\n",
    "    clearedText = re.sub('[%s¿?\\d]' % re.escape(string.punctuation), ' ', clearedText)\n",
    "    return clearedText\n",
    "\n",
    "def noStopWords(array):\n",
    "    \n",
    "    filteredArray = []\n",
    "    for word in array:\n",
    "        if word not in stopWords:\n",
    "            filteredArray.append(word)\n",
    "    return filteredArray\n",
    "        "
   ]
  },
  {
   "cell_type": "code",
   "execution_count": null,
   "metadata": {},
   "outputs": [],
   "source": [
    "from collections import Counter\n",
    "\n",
    "#dirtyTweets = []\n",
    "filteredTweets = []\n",
    "for tweet in tweets:    \n",
    "    #Limpia todos los posibles links \n",
    "    tweet[\"texto_limpio\"] = clearText(tweet[\"texto\"])\n",
    "    tweet[\"terminos\"] = tweet[\"texto_limpio\"].split()\n",
    "    tweet[\"terminos_limpios\"] = noStopWords(tweet[\"terminos\"])\n",
    "    tweet[\"counter\"] = Counter(tweet[\"terminos_limpios\"])\n",
    "\n",
    "for tweet in tweets:\n",
    "    print(tweet, \"\\n\") \n",
    "    \n",
    "\n"
   ]
  }
 ],
 "metadata": {
  "kernelspec": {
   "display_name": "Python 3",
   "language": "python",
   "name": "python3"
  },
  "language_info": {
   "codemirror_mode": {
    "name": "ipython",
    "version": 3
   },
   "file_extension": ".py",
   "mimetype": "text/x-python",
   "name": "python",
   "nbconvert_exporter": "python",
   "pygments_lexer": "ipython3",
   "version": "3.7.4"
  }
 },
 "nbformat": 4,
 "nbformat_minor": 2
}
