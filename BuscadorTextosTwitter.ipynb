{
 "cells": [
  {
   "cell_type": "markdown",
   "metadata": {},
   "source": [
    "# Importante previamente haber realizado la instalación de la librería con el comando pip install python-twitter \n",
    "\n",
    "Para mejor uso de la librería, consultar https://python-twitter.readthedocs.io/en/latest/index.html\n"
   ]
  },
  {
   "cell_type": "code",
   "execution_count": 1,
   "metadata": {},
   "outputs": [],
   "source": [
    "import twitter "
   ]
  },
  {
   "cell_type": "markdown",
   "metadata": {},
   "source": [
    "Se muestra la descripción de las credenciales de la Api con sus diferentes propiedades"
   ]
  },
  {
   "cell_type": "code",
   "execution_count": 2,
   "metadata": {},
   "outputs": [
    {
     "name": "stdout",
     "output_type": "stream",
     "text": [
      "{\"created_at\": \"Fri Nov 23 12:30:51 +0000 2018\", \"default_profile\": true, \"default_profile_image\": true, \"id\": 1065945772347334656, \"id_str\": \"1065945772347334656\", \"name\": \"Kevin\", \"profile_background_color\": \"F5F8FA\", \"profile_image_url\": \"http://abs.twimg.com/sticky/default_profile_images/default_profile_normal.png\", \"profile_image_url_https\": \"https://abs.twimg.com/sticky/default_profile_images/default_profile_normal.png\", \"profile_link_color\": \"1DA1F2\", \"profile_sidebar_border_color\": \"C0DEED\", \"profile_sidebar_fill_color\": \"DDEEF6\", \"profile_text_color\": \"333333\", \"profile_use_background_image\": true, \"screen_name\": \"Kevin56195781\"}\n"
     ]
    }
   ],
   "source": [
    "twApi = twitter.Api(consumer_key='adLESj2vv3Np244OyiAn4ZeyG',\n",
    "  consumer_secret='2sd58lB3nMM9ye3dlAOrnbKgWVzP5CGPGw8Yn2V3ES0C9SmTtp',\n",
    "  access_token_key='1065945772347334656-cNYqp3HItdKhTuKsxURzRKgWsf5OOI',\n",
    "  access_token_secret='2VDjPrkI6KV2RVIHDHtoFGmg5l4DE7R9y8dbImYJGTrqk')\n",
    "\n",
    "print(twApi.VerifyCredentials())"
   ]
  },
  {
   "cell_type": "markdown",
   "metadata": {},
   "source": [
    "Se realiza la petición a la API de twitter para obtener la información de un listado de tweets."
   ]
  },
  {
   "cell_type": "code",
   "execution_count": 3,
   "metadata": {},
   "outputs": [
    {
     "name": "stdout",
     "output_type": "stream",
     "text": [
      "{'id': 1266419625304211463, 'texto': 'Invito a todos los ciudadanos en Bogotá a realizar el registro de sus bicicletas, esto ayudará a las autoridades a… https://t.co/uBbMbXFQ04', 'usuario': {'id': 137908875, 'nombre': 'Claudia López 👍', 'url': 'https://t.co/hAgbECv6PO', 'foto_perfil': 'http://pbs.twimg.com/profile_images/1212157426696433666/fh7BLx6k_normal.jpg'}} \n",
      "\n",
      "{'id': 1266350744044802051, 'texto': 'Vean este trino. Nuevamente la alcaldesa @claudialopez se contradice. A la policía le pide no perder el sentido del… https://t.co/FdQA8CvbH3', 'usuario': {'id': 87266285, 'nombre': 'Hollman Morris 🚇🌳👩🏽\\u200d🎓', 'url': 'https://t.co/CPtO4GblQW', 'foto_perfil': 'http://pbs.twimg.com/profile_images/1157541139433607168/uzpKa9ds_normal.jpg'}} \n",
      "\n",
      "{'id': 1266524805228040192, 'texto': 'A propósito del veto del gobierno a Frank Pearl quedan claras 3 cosas: 1) que este gobierno sí persigue y sí atrope… https://t.co/e4TKWXiVlf', 'usuario': {'id': 62154340, 'nombre': 'Roy Barreras', 'url': 'https://t.co/xDuAJcNc1n', 'foto_perfil': 'http://pbs.twimg.com/profile_images/1199503074643136512/xNS2e_MC_normal.jpg'}} \n",
      "\n",
      "{'id': 1266884182032162816, 'texto': 'Señor presidente @IvanDuque quiero saber cual es el apoyo para nosotros los artistas independientes, hasta la fecha… https://t.co/7PpAAnhMch', 'usuario': {'id': 948998947875500032, 'nombre': 'Danielle', 'url': 'https://t.co/ziLJmHoeMx', 'foto_perfil': 'http://pbs.twimg.com/profile_images/1240433424021798917/U2nWAsvw_normal.jpg'}} \n",
      "\n",
      "{'id': 1266884171026268160, 'texto': '@JuanDiegoAlvira como dice mi periodista favorito #nocomacuento y cuídense en casa, naranjita, agraz, uvas, ajo ...#pediadraleonardoescobar', 'usuario': {'id': 248923550, 'nombre': 'andrea.ayure', 'url': None, 'foto_perfil': 'http://pbs.twimg.com/profile_images/1248099509713997824/Gk5WbG1f_normal.jpg'}} \n",
      "\n",
      "{'id': 1266884157034070016, 'texto': 'Raw! https://t.co/l53VpAmaFE', 'usuario': {'id': 55390005, 'nombre': 'Natulia', 'url': 'https://t.co/fi3RalyM6d', 'foto_perfil': 'http://pbs.twimg.com/profile_images/1254566516168822784/g9lSvHKE_normal.jpg'}} \n",
      "\n",
      "{'id': 1266884127145562118, 'texto': 'Una parte de tremenda canción, los invito a escucharla: https://t.co/LX2juYCjxn #Covid19Colombia #hiphop… https://t.co/9Ln6Kp7Eds', 'usuario': {'id': 62381592, 'nombre': 'Daniela Arias Zapata', 'url': None, 'foto_perfil': 'http://pbs.twimg.com/profile_images/1033937399783546881/8F20ggyP_normal.jpg'}} \n",
      "\n",
      "{'id': 1266884126277275648, 'texto': '@nnnnnei Jajaja dizque no quise 🥺 me dio penita seguramente.', 'usuario': {'id': 1030279999889309697, 'nombre': 'Cuarentino Extendido', 'url': None, 'foto_perfil': 'http://pbs.twimg.com/profile_images/1253827900362629126/u103Obs9_normal.jpg'}} \n",
      "\n",
      "{'id': 1266884091783380997, 'texto': 'Que el diablo te lleve Bolsonaro...   Brasil 🇧🇷 meu brasil brasileiro... https://t.co/zE6npJ3btT', 'usuario': {'id': 253799651, 'nombre': 'Julio César Sánchez', 'url': None, 'foto_perfil': 'http://pbs.twimg.com/profile_images/1223111495434719232/_DfItdiK_normal.jpg'}} \n",
      "\n",
      "{'id': 1266884051559948289, 'texto': '@MajoDoria @vivianud7 Lo que escribimos dice lo que somos podemos decir ser pacifistas pero creer que el vandalismo… https://t.co/QVjMiTglQu', 'usuario': {'id': 228087393, 'nombre': 'Maria Fernand Rojas', 'url': None, 'foto_perfil': 'http://pbs.twimg.com/profile_images/1079969791635533825/_ElHFjrk_normal.jpg'}} \n",
      "\n"
     ]
    }
   ],
   "source": [
    "request = twApi.GetSearch(geocode=\"4.151382,-73.637688,30mi\")\n",
    "\n",
    "tweets = []\n",
    "for item in request:\n",
    "    tweet = {\n",
    "        \"id\": item.id,\n",
    "        \"texto\": item.text,\n",
    "        \"usuario\": {\n",
    "            \"id\": item.user.id,\n",
    "            \"nombre\": item.user.name,\n",
    "            \"url\": item.user.url,\n",
    "            \"foto_perfil\": item.user.profile_image_url\n",
    "        } \n",
    "    }\n",
    "    \n",
    "    tweets.append(tweet)\n",
    "\n",
    "counter = 0    \n",
    "for tweet in tweets:\n",
    "    counter+=1\n",
    "    print(tweet, \"\\n\")\n"
   ]
  },
  {
   "cell_type": "markdown",
   "metadata": {},
   "source": [
    "Se obtiene un listado de palabras que carecen de importancia en el desarrollo del algrotimo"
   ]
  },
  {
   "cell_type": "code",
   "execution_count": 5,
   "metadata": {},
   "outputs": [],
   "source": [
    "from stop_words import get_stop_words\n",
    "\n",
    "stopWords = get_stop_words('spanish')\n",
    "#print(stopWords)"
   ]
  },
  {
   "cell_type": "markdown",
   "metadata": {},
   "source": [
    "Se eliminan los links y signos de puntuación de los tweets."
   ]
  },
  {
   "cell_type": "code",
   "execution_count": 6,
   "metadata": {},
   "outputs": [],
   "source": [
    "import re\n",
    "import string\n",
    "\n",
    "# texto = re.sub(\"[a-z]\\.[a-z]\\.\", ' ', texto)\n",
    "# texto = texto.replace('\\n','+') \n",
    "# texto = texto.replace('\\\"',' + ')\n",
    "# texto = texto.replace('\\t','+') \n",
    "# texto = texto.replace(',','')\n",
    "# texto = texto.replace('.','+')\n",
    "# texto = texto.replace('+',' ')\n",
    "# texto = re.sub(\"\\s+\", ' ', texto) \n",
    "# texto = re.sub(' +',' ', texto) \n",
    "# texto = re.sub(\"( '|' )\",' ', texto)\n",
    "# texto = re.sub(\"'\",' ', texto) \n",
    "# texto = re.sub('[%s]' % re.escape(string.punctuation), ' ', texto)\n",
    "# texto = re.sub('[%s]' % re.escape(string.digits), ' ', texto) \n",
    "# texto = re.sub(\"[^\\w\\s]\", '', texto)\n",
    "# texto = re.sub(\"\\s+\", ' ', texto)\n",
    "def clearText(text):\n",
    "    \n",
    "    clearedText = re.sub(r\"http\\S+\", \"\", text)\n",
    "    clearedText = re.sub('[%s¿?\\d]' % re.escape(string.punctuation), ' ', clearedText)\n",
    "    clearedText = clearedText.lower() \n",
    "    return clearedText "
   ]
  },
  {
   "cell_type": "markdown",
   "metadata": {},
   "source": [
    "Se determinan si las palabras del tweet hacen parte de las stopwords."
   ]
  },
  {
   "cell_type": "code",
   "execution_count": 7,
   "metadata": {},
   "outputs": [],
   "source": [
    "def noStopWords(array):\n",
    "    \n",
    "    filteredArray = []\n",
    "    for word in array:\n",
    "        if word not in stopWords:\n",
    "            filteredArray.append(word)\n",
    "    return filteredArray"
   ]
  },
  {
   "cell_type": "markdown",
   "metadata": {},
   "source": [
    "Función para crear el diccionario de términos"
   ]
  },
  {
   "cell_type": "code",
   "execution_count": 8,
   "metadata": {},
   "outputs": [],
   "source": [
    "def getDictionaryTerms(tweet):\n",
    "    found = 0\n",
    "    for word in tweet['terminos_limpios']:\n",
    "        for g_word in global_dict:\n",
    "            if g_word['term'] == word:\n",
    "                found = 1\n",
    "                global_dict[g_word['id']]['docs'].append(tweet['id']) \n",
    "        if found == 0:\n",
    "            global_dict.append({'id': len(global_dict), 'term': word, 'docs': [tweet['id']]})"
   ]
  },
  {
   "cell_type": "code",
   "execution_count": 9,
   "metadata": {},
   "outputs": [],
   "source": [
    "from collections import Counter\n",
    "\n",
    "global_dict = []\n",
    "\n",
    "#dirtyTweets = []\n",
    "filteredTweets = []\n",
    "for tweet in tweets:    \n",
    "    #Limpia todos los posibles links \n",
    "    tweet[\"texto_limpio\"] = clearText(tweet[\"texto\"]) \n",
    "    tweet[\"terminos\"] = tweet[\"texto_limpio\"].split() \n",
    "    tweet[\"terminos_limpios\"] = noStopWords(tweet[\"terminos\"])\n",
    "    tweet[\"counter\"] = Counter(tweet[\"terminos_limpios\"])\n",
    "    getDictionaryTerms(tweet) \n",
    "\n",
    "#for tweet in tweets:\n",
    "#    print(tweet, \"\\n\")  "
   ]
  },
  {
   "cell_type": "code",
   "execution_count": 10,
   "metadata": {},
   "outputs": [
    {
     "data": {
      "text/plain": [
       "[{'id': 0,\n",
       "  'term': 'invito',\n",
       "  'docs': [1266419625304211463, 1266884127145562118]},\n",
       " {'id': 1, 'term': 'ciudadanos', 'docs': [1266419625304211463]},\n",
       " {'id': 2, 'term': 'bogotá', 'docs': [1266419625304211463]},\n",
       " {'id': 3, 'term': 'realizar', 'docs': [1266419625304211463]},\n",
       " {'id': 4, 'term': 'registro', 'docs': [1266419625304211463]},\n",
       " {'id': 5, 'term': 'bicicletas', 'docs': [1266419625304211463]},\n",
       " {'id': 6, 'term': 'ayudará', 'docs': [1266419625304211463]},\n",
       " {'id': 7, 'term': 'autoridades', 'docs': [1266419625304211463]},\n",
       " {'id': 8, 'term': 'a…', 'docs': [1266419625304211463]},\n",
       " {'id': 9, 'term': 'vean', 'docs': [1266350744044802051]},\n",
       " {'id': 10, 'term': 'trino', 'docs': [1266350744044802051]},\n",
       " {'id': 11, 'term': 'nuevamente', 'docs': [1266350744044802051]},\n",
       " {'id': 12, 'term': 'alcaldesa', 'docs': [1266350744044802051]},\n",
       " {'id': 13, 'term': 'claudialopez', 'docs': [1266350744044802051]},\n",
       " {'id': 14, 'term': 'contradice', 'docs': [1266350744044802051]},\n",
       " {'id': 15, 'term': 'policía', 'docs': [1266350744044802051]},\n",
       " {'id': 16, 'term': 'pide', 'docs': [1266350744044802051]},\n",
       " {'id': 17, 'term': 'perder', 'docs': [1266350744044802051]},\n",
       " {'id': 18, 'term': 'sentido', 'docs': [1266350744044802051]},\n",
       " {'id': 19, 'term': 'del…', 'docs': [1266350744044802051]},\n",
       " {'id': 20, 'term': 'propósito', 'docs': [1266524805228040192]},\n",
       " {'id': 21, 'term': 'veto', 'docs': [1266524805228040192]},\n",
       " {'id': 22,\n",
       "  'term': 'gobierno',\n",
       "  'docs': [1266524805228040192, 1266524805228040192]},\n",
       " {'id': 23, 'term': 'frank', 'docs': [1266524805228040192]},\n",
       " {'id': 24, 'term': 'pearl', 'docs': [1266524805228040192]},\n",
       " {'id': 25, 'term': 'quedan', 'docs': [1266524805228040192]},\n",
       " {'id': 26, 'term': 'claras', 'docs': [1266524805228040192]},\n",
       " {'id': 27, 'term': 'cosas', 'docs': [1266524805228040192]},\n",
       " {'id': 28, 'term': 'señor', 'docs': [1266884182032162816]},\n",
       " {'id': 29, 'term': 'presidente', 'docs': [1266884182032162816]},\n",
       " {'id': 30, 'term': 'ivanduque', 'docs': [1266884182032162816]},\n",
       " {'id': 31, 'term': 'quiero', 'docs': [1266884182032162816]},\n",
       " {'id': 32, 'term': 'saber', 'docs': [1266884182032162816]},\n",
       " {'id': 33, 'term': 'apoyo', 'docs': [1266884182032162816]},\n",
       " {'id': 34, 'term': 'artistas', 'docs': [1266884182032162816]},\n",
       " {'id': 35, 'term': 'independientes', 'docs': [1266884182032162816]},\n",
       " {'id': 36, 'term': 'fecha…', 'docs': [1266884182032162816]},\n",
       " {'id': 37, 'term': 'juandiegoalvira', 'docs': [1266884171026268160]},\n",
       " {'id': 38,\n",
       "  'term': 'dice',\n",
       "  'docs': [1266884171026268160, 1266884051559948289]},\n",
       " {'id': 39, 'term': 'periodista', 'docs': [1266884171026268160]},\n",
       " {'id': 40, 'term': 'favorito', 'docs': [1266884171026268160]},\n",
       " {'id': 41, 'term': 'nocomacuento', 'docs': [1266884171026268160]},\n",
       " {'id': 42, 'term': 'cuídense', 'docs': [1266884171026268160]},\n",
       " {'id': 43, 'term': 'casa', 'docs': [1266884171026268160]},\n",
       " {'id': 44, 'term': 'naranjita', 'docs': [1266884171026268160]},\n",
       " {'id': 45, 'term': 'agraz', 'docs': [1266884171026268160]},\n",
       " {'id': 46, 'term': 'uvas', 'docs': [1266884171026268160]},\n",
       " {'id': 47, 'term': 'ajo', 'docs': [1266884171026268160]},\n",
       " {'id': 48, 'term': 'pediadraleonardoescobar', 'docs': [1266884171026268160]},\n",
       " {'id': 49, 'term': 'raw', 'docs': [1266884157034070016]},\n",
       " {'id': 50, 'term': 'parte', 'docs': [1266884127145562118]},\n",
       " {'id': 51, 'term': 'tremenda', 'docs': [1266884127145562118]},\n",
       " {'id': 52, 'term': 'canción', 'docs': [1266884127145562118]},\n",
       " {'id': 53, 'term': 'nnnnnei', 'docs': [1266884126277275648]},\n",
       " {'id': 54, 'term': 'jajaja', 'docs': [1266884126277275648]},\n",
       " {'id': 55, 'term': 'dizque', 'docs': [1266884126277275648]},\n",
       " {'id': 56, 'term': 'quise', 'docs': [1266884126277275648]},\n",
       " {'id': 57, 'term': '🥺', 'docs': [1266884126277275648]},\n",
       " {'id': 58, 'term': 'dio', 'docs': [1266884126277275648]},\n",
       " {'id': 59, 'term': 'penita', 'docs': [1266884126277275648]},\n",
       " {'id': 60, 'term': 'seguramente', 'docs': [1266884126277275648]},\n",
       " {'id': 61, 'term': 'diablo', 'docs': [1266884091783380997]},\n",
       " {'id': 62, 'term': 'lleve', 'docs': [1266884091783380997]},\n",
       " {'id': 63, 'term': 'bolsonaro', 'docs': [1266884091783380997]},\n",
       " {'id': 64,\n",
       "  'term': 'brasil',\n",
       "  'docs': [1266884091783380997, 1266884091783380997]},\n",
       " {'id': 65, 'term': '🇧🇷', 'docs': [1266884091783380997]},\n",
       " {'id': 66, 'term': 'meu', 'docs': [1266884091783380997]},\n",
       " {'id': 67, 'term': 'majodoria', 'docs': [1266884051559948289]},\n",
       " {'id': 68, 'term': 'vivianud', 'docs': [1266884051559948289]},\n",
       " {'id': 69, 'term': 'escribimos', 'docs': [1266884051559948289]}]"
      ]
     },
     "execution_count": 10,
     "metadata": {},
     "output_type": "execute_result"
    }
   ],
   "source": [
    "global_dict"
   ]
  },
  {
   "cell_type": "code",
   "execution_count": null,
   "metadata": {},
   "outputs": [],
   "source": []
  }
 ],
 "metadata": {
  "kernelspec": {
   "display_name": "Python 3",
   "language": "python",
   "name": "python3"
  },
  "language_info": {
   "codemirror_mode": {
    "name": "ipython",
    "version": 3
   },
   "file_extension": ".py",
   "mimetype": "text/x-python",
   "name": "python",
   "nbconvert_exporter": "python",
   "pygments_lexer": "ipython3",
   "version": "3.7.3"
  }
 },
 "nbformat": 4,
 "nbformat_minor": 2
}
