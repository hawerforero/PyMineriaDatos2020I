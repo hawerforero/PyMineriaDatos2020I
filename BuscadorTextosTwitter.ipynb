{
 "cells": [
  {
   "cell_type": "markdown",
   "metadata": {},
   "source": [
    "# Importante previamente haber realizado la instalación de la librería con el comando pip install python-twitter \n",
    "\n",
    "Para mejor uso de la librería, consultar https://python-twitter.readthedocs.io/en/latest/index.html\n"
   ]
  },
  {
   "cell_type": "code",
   "execution_count": 1,
   "metadata": {},
   "outputs": [],
   "source": [
    "import twitter "
   ]
  },
  {
   "cell_type": "markdown",
   "metadata": {},
   "source": [
    "Se muestra la descripción de las credenciales de la Api con sus diferentes propiedades"
   ]
  },
  {
   "cell_type": "code",
   "execution_count": 2,
   "metadata": {},
   "outputs": [
    {
     "name": "stdout",
     "output_type": "stream",
     "text": [
      "{\"created_at\": \"Fri Nov 23 12:30:51 +0000 2018\", \"default_profile\": true, \"default_profile_image\": true, \"id\": 1065945772347334656, \"id_str\": \"1065945772347334656\", \"name\": \"Kevin\", \"profile_background_color\": \"F5F8FA\", \"profile_image_url\": \"http://abs.twimg.com/sticky/default_profile_images/default_profile_normal.png\", \"profile_image_url_https\": \"https://abs.twimg.com/sticky/default_profile_images/default_profile_normal.png\", \"profile_link_color\": \"1DA1F2\", \"profile_sidebar_border_color\": \"C0DEED\", \"profile_sidebar_fill_color\": \"DDEEF6\", \"profile_text_color\": \"333333\", \"profile_use_background_image\": true, \"screen_name\": \"Kevin56195781\"}\n"
     ]
    }
   ],
   "source": [
    "twApi = twitter.Api(consumer_key='adLESj2vv3Np244OyiAn4ZeyG',\n",
    "  consumer_secret='2sd58lB3nMM9ye3dlAOrnbKgWVzP5CGPGw8Yn2V3ES0C9SmTtp',\n",
    "  access_token_key='1065945772347334656-cNYqp3HItdKhTuKsxURzRKgWsf5OOI',\n",
    "  access_token_secret='2VDjPrkI6KV2RVIHDHtoFGmg5l4DE7R9y8dbImYJGTrqk')\n",
    "\n",
    "print(twApi.VerifyCredentials())"
   ]
  },
  {
   "cell_type": "code",
   "execution_count": 23,
   "metadata": {},
   "outputs": [
    {
     "name": "stdout",
     "output_type": "stream",
     "text": [
      "{'id': 1263692332509138944, 'texto': '¡Buenas noticias!\\nLa ponencia que permitía explotación de hidrocarburos se hundió. Ya no será posible esa intención… https://t.co/zjQJuvRj2V', 'usuario': {'id': 1362851972, 'nombre': 'María José Pizarro Rodríguez', 'url': None, 'foto_perfil': 'http://pbs.twimg.com/profile_images/1153723764636565505/in8MgXSW_normal.jpg'}} \n",
      "\n",
      "{'id': 1263850663576064006, 'texto': '#SuperUribe La sabiduría y nobleza de @AlvaroUribeVel lo ha hecho uno de los grandes hombres de Colombia. Que no pe… https://t.co/42vcZRrfqL', 'usuario': {'id': 262349588, 'nombre': 'María del Rosario Guerra', 'url': None, 'foto_perfil': 'http://pbs.twimg.com/profile_images/1262776675466719234/TuNozT7o_normal.jpg'}} \n",
      "\n",
      "{'id': 1263848794149576713, 'texto': '#BolívarCumplaElFallo La dignidad y honorabilidad del presidente @AlvaroUribeVel se respeta. @GustavoBolivar tiene… https://t.co/fQXyLuZckY', 'usuario': {'id': 262349588, 'nombre': 'María del Rosario Guerra', 'url': None, 'foto_perfil': 'http://pbs.twimg.com/profile_images/1262776675466719234/TuNozT7o_normal.jpg'}} \n",
      "\n",
      "{'id': 1263985386579255297, 'texto': '#Imperdible #Matarife 👏👏👏👏👏👏\\n@ElQueLosDELATA https://t.co/NM6R2H6Rqd', 'usuario': {'id': 151725053, 'nombre': 'Sandra I Enciso G.', 'url': None, 'foto_perfil': 'http://pbs.twimg.com/profile_images/1226129457091616769/I1AWdcFN_normal.jpg'}} \n",
      "\n",
      "{'id': 1263985332783058944, 'texto': 'Cuando las cosas salen bien te sientes tan orgulloso. https://t.co/ZiQvbthiI2', 'usuario': {'id': 127329092, 'nombre': 'Miguel Ortega', 'url': 'https://t.co/4udaPntt68', 'foto_perfil': 'http://pbs.twimg.com/profile_images/1113061585688260609/BNNvUm_c_normal.jpg'}} \n",
      "\n",
      "{'id': 1263985317331316736, 'texto': 'Por dentro🥶😂 https://t.co/qGxG0fX8NW', 'usuario': {'id': 2858833609, 'nombre': 'Andrea Martinez', 'url': None, 'foto_perfil': 'http://pbs.twimg.com/profile_images/522887881510367232/wK1GzIer_normal.jpeg'}} \n",
      "\n",
      "{'id': 1263985308984623106, 'texto': 'Esta pagina les va a facilitar la vida😍 creanme @baul_giftbox', 'usuario': {'id': 213695928, 'nombre': 'Gise Moya', 'url': None, 'foto_perfil': 'http://pbs.twimg.com/profile_images/1220860109057818624/ns42LRRA_normal.jpg'}} \n",
      "\n",
      "{'id': 1263985298540806145, 'texto': '@Bryanmatheus512 Ya perdió!!! 😋', 'usuario': {'id': 209400708, 'nombre': 'Pollolover 😈🐥🔞', 'url': None, 'foto_perfil': 'http://pbs.twimg.com/profile_images/1248708504778661889/rIZbC_BQ_normal.jpg'}} \n",
      "\n"
     ]
    }
   ],
   "source": [
    "request = twApi.GetSearch(geocode=\"4.151382,-73.637688,30mi\")\n",
    "\n",
    "tweets = []\n",
    "for item in request:\n",
    "    tweet = {\n",
    "        \"id\": item.id,\n",
    "        \"texto\": item.text,\n",
    "        \"usuario\": {\n",
    "            \"id\": item.user.id,\n",
    "            \"nombre\": item.user.name,\n",
    "            \"url\": item.user.url,\n",
    "            \"foto_perfil\": item.user.profile_image_url\n",
    "        } \n",
    "    }\n",
    "    \n",
    "    tweets.append(tweet)\n",
    "\n",
    "for tweet in tweets:\n",
    "    counter+=1\n",
    "    print(tweet, \"\\n\")\n"
   ]
  },
  {
   "cell_type": "code",
   "execution_count": null,
   "metadata": {},
   "outputs": [],
   "source": []
  }
 ],
 "metadata": {
  "kernelspec": {
   "display_name": "Python 3",
   "language": "python",
   "name": "python3"
  },
  "language_info": {
   "codemirror_mode": {
    "name": "ipython",
    "version": 3
   },
   "file_extension": ".py",
   "mimetype": "text/x-python",
   "name": "python",
   "nbconvert_exporter": "python",
   "pygments_lexer": "ipython3",
   "version": "3.7.4"
  }
 },
 "nbformat": 4,
 "nbformat_minor": 2
}
