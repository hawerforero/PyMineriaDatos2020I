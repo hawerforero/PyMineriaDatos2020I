{
 "cells": [
  {
   "cell_type": "markdown",
   "metadata": {},
   "source": [
    "# Importante previamente haber realizado la instalación de la librería con el comando pip install python-twitter \n",
    "\n",
    "Para mejor uso de la librería, consultar https://python-twitter.readthedocs.io/en/latest/index.html\n"
   ]
  },
  {
   "cell_type": "code",
   "execution_count": 2,
   "metadata": {},
   "outputs": [],
   "source": [
    "import twitter "
   ]
  },
  {
   "cell_type": "markdown",
   "metadata": {},
   "source": [
    "Se muestra la descripción de las credenciales de la Api con sus diferentes propiedades"
   ]
  },
  {
   "cell_type": "code",
   "execution_count": 3,
   "metadata": {},
   "outputs": [
    {
     "name": "stdout",
     "output_type": "stream",
     "text": [
      "{\"created_at\": \"Fri Nov 23 12:30:51 +0000 2018\", \"default_profile\": true, \"default_profile_image\": true, \"id\": 1065945772347334656, \"id_str\": \"1065945772347334656\", \"name\": \"Kevin\", \"profile_background_color\": \"F5F8FA\", \"profile_image_url\": \"http://abs.twimg.com/sticky/default_profile_images/default_profile_normal.png\", \"profile_image_url_https\": \"https://abs.twimg.com/sticky/default_profile_images/default_profile_normal.png\", \"profile_link_color\": \"1DA1F2\", \"profile_sidebar_border_color\": \"C0DEED\", \"profile_sidebar_fill_color\": \"DDEEF6\", \"profile_text_color\": \"333333\", \"profile_use_background_image\": true, \"screen_name\": \"Kevin56195781\"}\n"
     ]
    }
   ],
   "source": [
    "twApi = twitter.Api(consumer_key='adLESj2vv3Np244OyiAn4ZeyG',\n",
    "  consumer_secret='2sd58lB3nMM9ye3dlAOrnbKgWVzP5CGPGw8Yn2V3ES0C9SmTtp',\n",
    "  access_token_key='1065945772347334656-cNYqp3HItdKhTuKsxURzRKgWsf5OOI',\n",
    "  access_token_secret='2VDjPrkI6KV2RVIHDHtoFGmg5l4DE7R9y8dbImYJGTrqk')\n",
    "\n",
    "print(twApi.VerifyCredentials())"
   ]
  },
  {
   "cell_type": "code",
   "execution_count": 5,
   "metadata": {},
   "outputs": [],
   "source": [
    "request = twApi.GetSearch()\n",
    "tweets = []\n",
    "for item in request:\n",
    "    tweet = {\n",
    "        \"id\": item.id,\n",
    "        \"texto\": item.text,\n",
    "        \"usuario\": {\n",
    "            \"id\": item.user.id,\n",
    "            \"nombre\": item.user.name,\n",
    "            \"url\": item.user.url,\n",
    "            \"foto_perfil\": item.user.profile_image_url\n",
    "        } \n",
    "    }\n",
    "    \n",
    "    tweets.append(tweet)\n",
    "\n",
    "for tweet in tweets:\n",
    "    print(tweet, \"\\n\")"
   ]
  },
  {
   "cell_type": "code",
   "execution_count": null,
   "metadata": {},
   "outputs": [],
   "source": []
  }
 ],
 "metadata": {
  "kernelspec": {
   "display_name": "Python 3",
   "language": "python",
   "name": "python3"
  },
  "language_info": {
   "codemirror_mode": {
    "name": "ipython",
    "version": 3
   },
   "file_extension": ".py",
   "mimetype": "text/x-python",
   "name": "python",
   "nbconvert_exporter": "python",
   "pygments_lexer": "ipython3",
   "version": "3.7.4"
  }
 },
 "nbformat": 4,
 "nbformat_minor": 2
}
